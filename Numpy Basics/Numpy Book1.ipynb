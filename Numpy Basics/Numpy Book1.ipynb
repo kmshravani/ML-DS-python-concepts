{
  "nbformat": 4,
  "nbformat_minor": 0,
  "metadata": {
    "colab": {
      "name": "Book1.ipynb",
      "provenance": [],
      "authorship_tag": "ABX9TyM8EfG7wA5UG26V1Ql7cahr"
    },
    "kernelspec": {
      "name": "python3",
      "display_name": "Python 3"
    }
  },
  "cells": [
    {
      "cell_type": "markdown",
      "metadata": {
        "id": "RzMLbMJsa8J5"
      },
      "source": [
        "deep-learning-prerequisites-the-numpy-stack-in-python - Lazy Programmer\r\n"
      ]
    },
    {
      "cell_type": "markdown",
      "metadata": {
        "id": "As2xkbunbarG"
      },
      "source": [
        "Arrays vs Lists"
      ]
    },
    {
      "cell_type": "code",
      "metadata": {
        "id": "j1IoXG5bbR9r"
      },
      "source": [
        "import numpy as np"
      ],
      "execution_count": 2,
      "outputs": []
    },
    {
      "cell_type": "code",
      "metadata": {
        "id": "U6HtscLhbg7q"
      },
      "source": [
        "L = [1,2,3]"
      ],
      "execution_count": 3,
      "outputs": []
    },
    {
      "cell_type": "code",
      "metadata": {
        "id": "NGbbsPChbSBE"
      },
      "source": [
        "A = np.array([1,2,3])"
      ],
      "execution_count": 4,
      "outputs": []
    },
    {
      "cell_type": "code",
      "metadata": {
        "colab": {
          "base_uri": "https://localhost:8080/"
        },
        "id": "yFHXP144bSDS",
        "outputId": "651b4c88-507a-4c34-f507-d09e2462e76d"
      },
      "source": [
        "for e in L:\r\n",
        "  print(e)\r\n",
        "print(type(L))"
      ],
      "execution_count": 5,
      "outputs": [
        {
          "output_type": "stream",
          "text": [
            "1\n",
            "2\n",
            "3\n",
            "<class 'list'>\n"
          ],
          "name": "stdout"
        }
      ]
    },
    {
      "cell_type": "code",
      "metadata": {
        "colab": {
          "base_uri": "https://localhost:8080/"
        },
        "id": "BaWmPYthbs4O",
        "outputId": "dfd7b9f3-790f-4026-d369-79642d2f9c2c"
      },
      "source": [
        "for e in A:\r\n",
        "  print(e)\r\n",
        "print(type(A))"
      ],
      "execution_count": 6,
      "outputs": [
        {
          "output_type": "stream",
          "text": [
            "1\n",
            "2\n",
            "3\n",
            "<class 'numpy.ndarray'>\n"
          ],
          "name": "stdout"
        }
      ]
    },
    {
      "cell_type": "code",
      "metadata": {
        "colab": {
          "base_uri": "https://localhost:8080/"
        },
        "id": "c4cr5oKNcJGq",
        "outputId": "7dd9d31d-e66b-4c7d-84f4-669f647b569a"
      },
      "source": [
        "L.append(4)\r\n",
        "L"
      ],
      "execution_count": 7,
      "outputs": [
        {
          "output_type": "execute_result",
          "data": {
            "text/plain": [
              "[1, 2, 3, 4]"
            ]
          },
          "metadata": {
            "tags": []
          },
          "execution_count": 7
        }
      ]
    },
    {
      "cell_type": "code",
      "metadata": {
        "colab": {
          "base_uri": "https://localhost:8080/",
          "height": 193
        },
        "id": "G2QnvfD-cJQS",
        "outputId": "ed97def6-d8e4-4745-d567-bcdd4cdf5f6b"
      },
      "source": [
        "A.append(4)\r\n",
        "A"
      ],
      "execution_count": 8,
      "outputs": [
        {
          "output_type": "error",
          "ename": "AttributeError",
          "evalue": "ignored",
          "traceback": [
            "\u001b[0;31m---------------------------------------------------------------------------\u001b[0m",
            "\u001b[0;31mAttributeError\u001b[0m                            Traceback (most recent call last)",
            "\u001b[0;32m<ipython-input-8-e0bbc3bd49a5>\u001b[0m in \u001b[0;36m<module>\u001b[0;34m()\u001b[0m\n\u001b[0;32m----> 1\u001b[0;31m \u001b[0mA\u001b[0m\u001b[0;34m.\u001b[0m\u001b[0mappend\u001b[0m\u001b[0;34m(\u001b[0m\u001b[0;36m4\u001b[0m\u001b[0;34m)\u001b[0m\u001b[0;34m\u001b[0m\u001b[0;34m\u001b[0m\u001b[0m\n\u001b[0m\u001b[1;32m      2\u001b[0m \u001b[0mA\u001b[0m\u001b[0;34m\u001b[0m\u001b[0;34m\u001b[0m\u001b[0m\n",
            "\u001b[0;31mAttributeError\u001b[0m: 'numpy.ndarray' object has no attribute 'append'"
          ]
        }
      ]
    },
    {
      "cell_type": "code",
      "metadata": {
        "id": "8C9lH0v2cJTL"
      },
      "source": [
        "L + [5]"
      ],
      "execution_count": null,
      "outputs": []
    },
    {
      "cell_type": "code",
      "metadata": {
        "id": "6yanVpJycJWa"
      },
      "source": [
        "A + [4] #A + np.array([4])"
      ],
      "execution_count": null,
      "outputs": []
    },
    {
      "cell_type": "markdown",
      "metadata": {
        "id": "2C9Um46md0UN"
      },
      "source": [
        "To a simple python list, new element is appended; for numpy array it does addition ; this is called *broadcasting* and little illegal as not same dimensions \r\n",
        "Numpy focuses on math so addition"
      ]
    },
    {
      "cell_type": "code",
      "metadata": {
        "id": "TuG_4VTNb6Pu"
      },
      "source": [
        "A + np.array([4,5,6])"
      ],
      "execution_count": null,
      "outputs": []
    },
    {
      "cell_type": "code",
      "metadata": {
        "id": "7WZINm1hekd1"
      },
      "source": [
        "A + np.array([4,5])"
      ],
      "execution_count": null,
      "outputs": []
    },
    {
      "cell_type": "markdown",
      "metadata": {
        "id": "1L9gN-GLe0F7"
      },
      "source": [
        "Scalar & Multiplication"
      ]
    },
    {
      "cell_type": "code",
      "metadata": {
        "id": "9iIzvGM9eu8N"
      },
      "source": [
        "2 * A"
      ],
      "execution_count": null,
      "outputs": []
    },
    {
      "cell_type": "code",
      "metadata": {
        "id": "GdLUupMVe43T"
      },
      "source": [
        "2 * L"
      ],
      "execution_count": null,
      "outputs": []
    },
    {
      "cell_type": "code",
      "metadata": {
        "id": "lYtriMasfSMw"
      },
      "source": [
        "L + L"
      ],
      "execution_count": null,
      "outputs": []
    },
    {
      "cell_type": "markdown",
      "metadata": {
        "id": "OxpIGhY3fM8o"
      },
      "source": [
        "List simple repeated ; Array multiply "
      ]
    },
    {
      "cell_type": "code",
      "metadata": {
        "id": "76qI3z2ke6ZM"
      },
      "source": [
        "L2 = []\r\n",
        "for i in L:\r\n",
        "  L2.append(i + 3)\r\n",
        "print(L2)\r\n",
        "   "
      ],
      "execution_count": null,
      "outputs": []
    },
    {
      "cell_type": "markdown",
      "metadata": {
        "id": "RS4C68hyLUXR"
      },
      "source": [
        "List Comprehensions\r\n"
      ]
    },
    {
      "cell_type": "code",
      "metadata": {
        "id": "hqQ-0UiofkUQ",
        "colab": {
          "base_uri": "https://localhost:8080/"
        },
        "outputId": "34f294b2-0a9b-4df2-a5df-1bce3c11cf6d"
      },
      "source": [
        "L2 = [e+3 for e in L]\r\n",
        "L2"
      ],
      "execution_count": 9,
      "outputs": [
        {
          "output_type": "execute_result",
          "data": {
            "text/plain": [
              "[4, 5, 6, 7]"
            ]
          },
          "metadata": {
            "tags": []
          },
          "execution_count": 9
        }
      ]
    },
    {
      "cell_type": "code",
      "metadata": {
        "id": "IrP4wovALcaU"
      },
      "source": [
        ""
      ],
      "execution_count": null,
      "outputs": []
    },
    {
      "cell_type": "code",
      "metadata": {
        "id": "OgPBcHT9NXZv"
      },
      "source": [
        ""
      ],
      "execution_count": null,
      "outputs": []
    }
  ]
}